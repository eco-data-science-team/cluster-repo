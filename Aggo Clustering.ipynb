{
 "cells": [
  {
   "cell_type": "code",
   "execution_count": null,
   "metadata": {},
   "outputs": [],
   "source": [
    "all_outliers = []\n",
    "for cluster in df['labels']:\n",
    "    subset_df = agg_df.loc[agg_df['label' ] == cluster]\n",
    "    all_chilled = subset_df['chilled'].tolist()\n",
    "    #extract 3sd away\n",
    "    threeo = np.mean(all_chilled) + 3*np.std(all_chilled)\n",
    "    for num in all_chilled:\n",
    "        if num > threeo:\n",
    "            all_outliers.append(num)\n",
    "            \n",
    "#plot scatter with outliers marked\n",
    "plt.scatter(temp, chilled)\n",
    "for outlier in all_outliers:\n",
    "    index = agg_df['chilled'].tolist().index(outlier)\n",
    "    temp_index = agg_df['temp'].tolist()[index]\n",
    "    plt.scatter(temp_index, outlier)\n",
    "    \n",
    "#plot data with outliers \n",
    "plt.plot(agg_df.index, agg_df['chilled'])\n",
    "for outlier in all_outliers:\n",
    "    outlier_index = agg_df['chilled'].tolist().index(outlier)\n",
    "    "
   ]
  }
 ],
 "metadata": {
  "kernelspec": {
   "display_name": "Python 3",
   "language": "python",
   "name": "python3"
  },
  "language_info": {
   "codemirror_mode": {
    "name": "ipython",
    "version": 3
   },
   "file_extension": ".py",
   "mimetype": "text/x-python",
   "name": "python",
   "nbconvert_exporter": "python",
   "pygments_lexer": "ipython3",
   "version": "3.7.3"
  }
 },
 "nbformat": 4,
 "nbformat_minor": 2
}
